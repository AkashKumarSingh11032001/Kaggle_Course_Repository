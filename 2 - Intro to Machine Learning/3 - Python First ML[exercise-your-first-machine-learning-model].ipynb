{
 "cells": [
  {
   "cell_type": "markdown",
   "id": "34f640aa",
   "metadata": {
    "papermill": {
     "duration": 0.016584,
     "end_time": "2021-08-11T03:34:10.547505",
     "exception": false,
     "start_time": "2021-08-11T03:34:10.530921",
     "status": "completed"
    },
    "tags": []
   },
   "source": [
    "**This notebook is an exercise in the [Introduction to Machine Learning](https://www.kaggle.com/learn/intro-to-machine-learning) course.  You can reference the tutorial at [this link](https://www.kaggle.com/dansbecker/your-first-machine-learning-model).**\n",
    "\n",
    "---\n"
   ]
  },
  {
   "cell_type": "markdown",
   "id": "aeb25b7c",
   "metadata": {
    "papermill": {
     "duration": 0.014875,
     "end_time": "2021-08-11T03:34:10.580225",
     "exception": false,
     "start_time": "2021-08-11T03:34:10.565350",
     "status": "completed"
    },
    "tags": []
   },
   "source": [
    "## Recap\n",
    "So far, you have loaded your data and reviewed it with the following code. Run this cell to set up your coding environment where the previous step left off."
   ]
  },
  {
   "cell_type": "code",
   "execution_count": 1,
   "id": "99009ed4",
   "metadata": {
    "execution": {
     "iopub.execute_input": "2021-08-11T03:34:10.624479Z",
     "iopub.status.busy": "2021-08-11T03:34:10.623836Z",
     "iopub.status.idle": "2021-08-11T03:34:11.810391Z",
     "shell.execute_reply": "2021-08-11T03:34:11.811042Z",
     "shell.execute_reply.started": "2021-08-11T03:21:26.858001Z"
    },
    "papermill": {
     "duration": 1.215825,
     "end_time": "2021-08-11T03:34:11.811311",
     "exception": false,
     "start_time": "2021-08-11T03:34:10.595486",
     "status": "completed"
    },
    "tags": []
   },
   "outputs": [
    {
     "name": "stdout",
     "output_type": "stream",
     "text": [
      "Setup Complete\n"
     ]
    }
   ],
   "source": [
    "# Code you have previously used to load data\n",
    "import pandas as pd\n",
    "\n",
    "# Path of the file to read\n",
    "iowa_file_path = '../input/home-data-for-ml-course/train.csv'\n",
    "\n",
    "home_data = pd.read_csv(iowa_file_path)\n",
    "\n",
    "# Set up code checking\n",
    "from learntools.core import binder\n",
    "binder.bind(globals())\n",
    "from learntools.machine_learning.ex3 import *\n",
    "\n",
    "print(\"Setup Complete\")"
   ]
  },
  {
   "cell_type": "markdown",
   "id": "46c42330",
   "metadata": {
    "papermill": {
     "duration": 0.014907,
     "end_time": "2021-08-11T03:34:11.841977",
     "exception": false,
     "start_time": "2021-08-11T03:34:11.827070",
     "status": "completed"
    },
    "tags": []
   },
   "source": [
    "# Exercises\n",
    "\n",
    "## Step 1: Specify Prediction Target\n",
    "Select the target variable, which corresponds to the sales price. Save this to a new variable called `y`. You'll need to print a list of the columns to find the name of the column you need.\n"
   ]
  },
  {
   "cell_type": "code",
   "execution_count": 2,
   "id": "b09f9c2a",
   "metadata": {
    "execution": {
     "iopub.execute_input": "2021-08-11T03:34:11.875758Z",
     "iopub.status.busy": "2021-08-11T03:34:11.875118Z",
     "iopub.status.idle": "2021-08-11T03:34:11.883289Z",
     "shell.execute_reply": "2021-08-11T03:34:11.883872Z",
     "shell.execute_reply.started": "2021-08-11T03:22:24.454696Z"
    },
    "papermill": {
     "duration": 0.026867,
     "end_time": "2021-08-11T03:34:11.884050",
     "exception": false,
     "start_time": "2021-08-11T03:34:11.857183",
     "status": "completed"
    },
    "tags": []
   },
   "outputs": [
    {
     "data": {
      "text/plain": [
       "Index(['Id', 'MSSubClass', 'MSZoning', 'LotFrontage', 'LotArea', 'Street',\n",
       "       'Alley', 'LotShape', 'LandContour', 'Utilities', 'LotConfig',\n",
       "       'LandSlope', 'Neighborhood', 'Condition1', 'Condition2', 'BldgType',\n",
       "       'HouseStyle', 'OverallQual', 'OverallCond', 'YearBuilt', 'YearRemodAdd',\n",
       "       'RoofStyle', 'RoofMatl', 'Exterior1st', 'Exterior2nd', 'MasVnrType',\n",
       "       'MasVnrArea', 'ExterQual', 'ExterCond', 'Foundation', 'BsmtQual',\n",
       "       'BsmtCond', 'BsmtExposure', 'BsmtFinType1', 'BsmtFinSF1',\n",
       "       'BsmtFinType2', 'BsmtFinSF2', 'BsmtUnfSF', 'TotalBsmtSF', 'Heating',\n",
       "       'HeatingQC', 'CentralAir', 'Electrical', '1stFlrSF', '2ndFlrSF',\n",
       "       'LowQualFinSF', 'GrLivArea', 'BsmtFullBath', 'BsmtHalfBath', 'FullBath',\n",
       "       'HalfBath', 'BedroomAbvGr', 'KitchenAbvGr', 'KitchenQual',\n",
       "       'TotRmsAbvGrd', 'Functional', 'Fireplaces', 'FireplaceQu', 'GarageType',\n",
       "       'GarageYrBlt', 'GarageFinish', 'GarageCars', 'GarageArea', 'GarageQual',\n",
       "       'GarageCond', 'PavedDrive', 'WoodDeckSF', 'OpenPorchSF',\n",
       "       'EnclosedPorch', '3SsnPorch', 'ScreenPorch', 'PoolArea', 'PoolQC',\n",
       "       'Fence', 'MiscFeature', 'MiscVal', 'MoSold', 'YrSold', 'SaleType',\n",
       "       'SaleCondition', 'SalePrice'],\n",
       "      dtype='object')"
      ]
     },
     "execution_count": 2,
     "metadata": {},
     "output_type": "execute_result"
    }
   ],
   "source": [
    "# print the list of columns in the dataset to find the name of the prediction target\n",
    "home_data.columns"
   ]
  },
  {
   "cell_type": "code",
   "execution_count": 3,
   "id": "6a32a541",
   "metadata": {
    "execution": {
     "iopub.execute_input": "2021-08-11T03:34:11.918457Z",
     "iopub.status.busy": "2021-08-11T03:34:11.917842Z",
     "iopub.status.idle": "2021-08-11T03:34:11.932802Z",
     "shell.execute_reply": "2021-08-11T03:34:11.932296Z",
     "shell.execute_reply.started": "2021-08-11T03:23:01.447436Z"
    },
    "papermill": {
     "duration": 0.033149,
     "end_time": "2021-08-11T03:34:11.932940",
     "exception": false,
     "start_time": "2021-08-11T03:34:11.899791",
     "status": "completed"
    },
    "tags": []
   },
   "outputs": [
    {
     "data": {
      "application/javascript": [
       "parent.postMessage({\"jupyterEvent\": \"custom.exercise_interaction\", \"data\": {\"outcomeType\": 1, \"valueTowardsCompletion\": 0.25, \"interactionType\": 1, \"questionType\": 2, \"questionId\": \"1_SetTarget\", \"learnToolsVersion\": \"0.3.4\", \"failureMessage\": \"\", \"exceptionClass\": \"\", \"trace\": \"\"}}, \"*\")"
      ],
      "text/plain": [
       "<IPython.core.display.Javascript object>"
      ]
     },
     "metadata": {},
     "output_type": "display_data"
    },
    {
     "data": {
      "text/markdown": [
       "<span style=\"color:#33cc33\">Correct</span>"
      ],
      "text/plain": [
       "Correct"
      ]
     },
     "metadata": {},
     "output_type": "display_data"
    }
   ],
   "source": [
    "y = home_data['SalePrice']\n",
    "\n",
    "# Check your answer\n",
    "step_1.check()"
   ]
  },
  {
   "cell_type": "code",
   "execution_count": 4,
   "id": "58ea0ed8",
   "metadata": {
    "collapsed": true,
    "execution": {
     "iopub.execute_input": "2021-08-11T03:34:11.970389Z",
     "iopub.status.busy": "2021-08-11T03:34:11.969741Z",
     "iopub.status.idle": "2021-08-11T03:34:11.973001Z",
     "shell.execute_reply": "2021-08-11T03:34:11.972461Z"
    },
    "jupyter": {
     "outputs_hidden": true
    },
    "papermill": {
     "duration": 0.023497,
     "end_time": "2021-08-11T03:34:11.973127",
     "exception": false,
     "start_time": "2021-08-11T03:34:11.949630",
     "status": "completed"
    },
    "tags": []
   },
   "outputs": [],
   "source": [
    "# The lines below will show you a hint or the solution.\n",
    "# step_1.hint() \n",
    "# step_1.solution()"
   ]
  },
  {
   "cell_type": "markdown",
   "id": "a1858fb3",
   "metadata": {
    "papermill": {
     "duration": 0.016455,
     "end_time": "2021-08-11T03:34:12.006385",
     "exception": false,
     "start_time": "2021-08-11T03:34:11.989930",
     "status": "completed"
    },
    "tags": []
   },
   "source": [
    "## Step 2: Create X\n",
    "Now you will create a DataFrame called `X` holding the predictive features.\n",
    "\n",
    "Since you want only some columns from the original data, you'll first create a list with the names of the columns you want in `X`.\n",
    "\n",
    "You'll use just the following columns in the list (you can copy and paste the whole list to save some typing, though you'll still need to add quotes):\n",
    "    * LotArea\n",
    "    * YearBuilt\n",
    "    * 1stFlrSF\n",
    "    * 2ndFlrSF\n",
    "    * FullBath\n",
    "    * BedroomAbvGr\n",
    "    * TotRmsAbvGrd\n",
    "\n",
    "After you've created that list of features, use it to create the DataFrame that you'll use to fit the model."
   ]
  },
  {
   "cell_type": "code",
   "execution_count": 5,
   "id": "9bac361f",
   "metadata": {
    "execution": {
     "iopub.execute_input": "2021-08-11T03:34:12.056924Z",
     "iopub.status.busy": "2021-08-11T03:34:12.055974Z",
     "iopub.status.idle": "2021-08-11T03:34:12.062625Z",
     "shell.execute_reply": "2021-08-11T03:34:12.062101Z",
     "shell.execute_reply.started": "2021-08-11T03:25:38.374567Z"
    },
    "papermill": {
     "duration": 0.039443,
     "end_time": "2021-08-11T03:34:12.062759",
     "exception": false,
     "start_time": "2021-08-11T03:34:12.023316",
     "status": "completed"
    },
    "tags": []
   },
   "outputs": [
    {
     "data": {
      "application/javascript": [
       "parent.postMessage({\"jupyterEvent\": \"custom.exercise_interaction\", \"data\": {\"outcomeType\": 1, \"valueTowardsCompletion\": 0.25, \"interactionType\": 1, \"questionType\": 2, \"questionId\": \"2_SelectPredictionData\", \"learnToolsVersion\": \"0.3.4\", \"failureMessage\": \"\", \"exceptionClass\": \"\", \"trace\": \"\"}}, \"*\")"
      ],
      "text/plain": [
       "<IPython.core.display.Javascript object>"
      ]
     },
     "metadata": {},
     "output_type": "display_data"
    },
    {
     "data": {
      "text/markdown": [
       "<span style=\"color:#33cc33\">Correct</span>"
      ],
      "text/plain": [
       "Correct"
      ]
     },
     "metadata": {},
     "output_type": "display_data"
    }
   ],
   "source": [
    "# Create the list of features below\n",
    "feature_names = ['LotArea','YearBuilt','1stFlrSF','2ndFlrSF','FullBath','BedroomAbvGr','TotRmsAbvGrd']\n",
    "\n",
    "# Select data corresponding to features in feature_names\n",
    "X = home_data[feature_names]\n",
    "\n",
    "# Check your answer\n",
    "step_2.check()"
   ]
  },
  {
   "cell_type": "code",
   "execution_count": 6,
   "id": "a498001d",
   "metadata": {
    "collapsed": true,
    "execution": {
     "iopub.execute_input": "2021-08-11T03:34:12.107682Z",
     "iopub.status.busy": "2021-08-11T03:34:12.106745Z",
     "iopub.status.idle": "2021-08-11T03:34:12.110139Z",
     "shell.execute_reply": "2021-08-11T03:34:12.110619Z"
    },
    "jupyter": {
     "outputs_hidden": true
    },
    "papermill": {
     "duration": 0.025583,
     "end_time": "2021-08-11T03:34:12.110771",
     "exception": false,
     "start_time": "2021-08-11T03:34:12.085188",
     "status": "completed"
    },
    "tags": []
   },
   "outputs": [],
   "source": [
    "# step_2.hint()\n",
    "# step_2.solution()"
   ]
  },
  {
   "cell_type": "markdown",
   "id": "1d2fb486",
   "metadata": {
    "papermill": {
     "duration": 0.018156,
     "end_time": "2021-08-11T03:34:12.149093",
     "exception": false,
     "start_time": "2021-08-11T03:34:12.130937",
     "status": "completed"
    },
    "tags": []
   },
   "source": [
    "## Review Data\n",
    "Before building a model, take a quick look at **X** to verify it looks sensible"
   ]
  },
  {
   "cell_type": "code",
   "execution_count": 7,
   "id": "837f617a",
   "metadata": {
    "execution": {
     "iopub.execute_input": "2021-08-11T03:34:12.188963Z",
     "iopub.status.busy": "2021-08-11T03:34:12.188014Z",
     "iopub.status.idle": "2021-08-11T03:34:12.221883Z",
     "shell.execute_reply": "2021-08-11T03:34:12.221343Z",
     "shell.execute_reply.started": "2021-08-11T03:26:27.793636Z"
    },
    "papermill": {
     "duration": 0.054763,
     "end_time": "2021-08-11T03:34:12.222055",
     "exception": false,
     "start_time": "2021-08-11T03:34:12.167292",
     "status": "completed"
    },
    "tags": []
   },
   "outputs": [
    {
     "name": "stdout",
     "output_type": "stream",
     "text": [
      "             LotArea    YearBuilt     1stFlrSF     2ndFlrSF     FullBath  \\\n",
      "count    1460.000000  1460.000000  1460.000000  1460.000000  1460.000000   \n",
      "mean    10516.828082  1971.267808  1162.626712   346.992466     1.565068   \n",
      "std      9981.264932    30.202904   386.587738   436.528436     0.550916   \n",
      "min      1300.000000  1872.000000   334.000000     0.000000     0.000000   \n",
      "25%      7553.500000  1954.000000   882.000000     0.000000     1.000000   \n",
      "50%      9478.500000  1973.000000  1087.000000     0.000000     2.000000   \n",
      "75%     11601.500000  2000.000000  1391.250000   728.000000     2.000000   \n",
      "max    215245.000000  2010.000000  4692.000000  2065.000000     3.000000   \n",
      "\n",
      "       BedroomAbvGr  TotRmsAbvGrd  \n",
      "count   1460.000000   1460.000000  \n",
      "mean       2.866438      6.517808  \n",
      "std        0.815778      1.625393  \n",
      "min        0.000000      2.000000  \n",
      "25%        2.000000      5.000000  \n",
      "50%        3.000000      6.000000  \n",
      "75%        3.000000      7.000000  \n",
      "max        8.000000     14.000000  \n",
      "   LotArea  YearBuilt  1stFlrSF  2ndFlrSF  FullBath  BedroomAbvGr  \\\n",
      "0     8450       2003       856       854         2             3   \n",
      "1     9600       1976      1262         0         2             3   \n",
      "2    11250       2001       920       866         2             3   \n",
      "3     9550       1915       961       756         1             3   \n",
      "4    14260       2000      1145      1053         2             4   \n",
      "\n",
      "   TotRmsAbvGrd  \n",
      "0             8  \n",
      "1             6  \n",
      "2             6  \n",
      "3             7  \n",
      "4             9  \n"
     ]
    }
   ],
   "source": [
    "# Review data\n",
    "# print description or statistics from X\n",
    "print(X.describe())\n",
    "\n",
    "# print the top few lines\n",
    "print(X.head())"
   ]
  },
  {
   "cell_type": "markdown",
   "id": "eb69f525",
   "metadata": {
    "papermill": {
     "duration": 0.018015,
     "end_time": "2021-08-11T03:34:12.258324",
     "exception": false,
     "start_time": "2021-08-11T03:34:12.240309",
     "status": "completed"
    },
    "tags": []
   },
   "source": [
    "## Step 3: Specify and Fit Model\n",
    "Create a `DecisionTreeRegressor` and save it iowa_model. Ensure you've done the relevant import from sklearn to run this command.\n",
    "\n",
    "Then fit the model you just created using the data in `X` and `y` that you saved above."
   ]
  },
  {
   "cell_type": "code",
   "execution_count": 8,
   "id": "f76f1107",
   "metadata": {
    "execution": {
     "iopub.execute_input": "2021-08-11T03:34:12.297413Z",
     "iopub.status.busy": "2021-08-11T03:34:12.296807Z",
     "iopub.status.idle": "2021-08-11T03:34:12.316041Z",
     "shell.execute_reply": "2021-08-11T03:34:12.316475Z",
     "shell.execute_reply.started": "2021-08-11T03:28:33.436022Z"
    },
    "papermill": {
     "duration": 0.040177,
     "end_time": "2021-08-11T03:34:12.316637",
     "exception": false,
     "start_time": "2021-08-11T03:34:12.276460",
     "status": "completed"
    },
    "tags": []
   },
   "outputs": [
    {
     "data": {
      "application/javascript": [
       "parent.postMessage({\"jupyterEvent\": \"custom.exercise_interaction\", \"data\": {\"outcomeType\": 1, \"valueTowardsCompletion\": 0.25, \"interactionType\": 1, \"questionType\": 2, \"questionId\": \"3_CreateModel\", \"learnToolsVersion\": \"0.3.4\", \"failureMessage\": \"\", \"exceptionClass\": \"\", \"trace\": \"\"}}, \"*\")"
      ],
      "text/plain": [
       "<IPython.core.display.Javascript object>"
      ]
     },
     "metadata": {},
     "output_type": "display_data"
    },
    {
     "data": {
      "text/markdown": [
       "<span style=\"color:#33cc33\">Correct</span>"
      ],
      "text/plain": [
       "Correct"
      ]
     },
     "metadata": {},
     "output_type": "display_data"
    }
   ],
   "source": [
    "from sklearn.tree import DecisionTreeRegressor\n",
    "#specify the model. \n",
    "#For model reproducibility, set a numeric value for random_state when specifying the model\n",
    "iowa_model = DecisionTreeRegressor(random_state = 1)\n",
    "\n",
    "# Fit the model\n",
    "iowa_model.fit(X,y)\n",
    "\n",
    "# Check your answer\n",
    "step_3.check()"
   ]
  },
  {
   "cell_type": "code",
   "execution_count": 9,
   "id": "bba1e990",
   "metadata": {
    "collapsed": true,
    "execution": {
     "iopub.execute_input": "2021-08-11T03:34:12.359997Z",
     "iopub.status.busy": "2021-08-11T03:34:12.359295Z",
     "iopub.status.idle": "2021-08-11T03:34:12.361968Z",
     "shell.execute_reply": "2021-08-11T03:34:12.361467Z"
    },
    "jupyter": {
     "outputs_hidden": true
    },
    "papermill": {
     "duration": 0.026324,
     "end_time": "2021-08-11T03:34:12.362095",
     "exception": false,
     "start_time": "2021-08-11T03:34:12.335771",
     "status": "completed"
    },
    "tags": []
   },
   "outputs": [],
   "source": [
    "# step_3.hint()\n",
    "# step_3.solution()"
   ]
  },
  {
   "cell_type": "markdown",
   "id": "cdd4b836",
   "metadata": {
    "papermill": {
     "duration": 0.019576,
     "end_time": "2021-08-11T03:34:12.401249",
     "exception": false,
     "start_time": "2021-08-11T03:34:12.381673",
     "status": "completed"
    },
    "tags": []
   },
   "source": [
    "## Step 4: Make Predictions\n",
    "Make predictions with the model's `predict` command using `X` as the data. Save the results to a variable called `predictions`."
   ]
  },
  {
   "cell_type": "code",
   "execution_count": 10,
   "id": "c03cd3de",
   "metadata": {
    "execution": {
     "iopub.execute_input": "2021-08-11T03:34:12.447128Z",
     "iopub.status.busy": "2021-08-11T03:34:12.446484Z",
     "iopub.status.idle": "2021-08-11T03:34:12.456046Z",
     "shell.execute_reply": "2021-08-11T03:34:12.456548Z",
     "shell.execute_reply.started": "2021-08-11T03:29:45.991789Z"
    },
    "papermill": {
     "duration": 0.035686,
     "end_time": "2021-08-11T03:34:12.456707",
     "exception": false,
     "start_time": "2021-08-11T03:34:12.421021",
     "status": "completed"
    },
    "tags": []
   },
   "outputs": [
    {
     "name": "stdout",
     "output_type": "stream",
     "text": [
      "[208500. 181500. 223500. ... 266500. 142125. 147500.]\n"
     ]
    },
    {
     "data": {
      "application/javascript": [
       "parent.postMessage({\"jupyterEvent\": \"custom.exercise_interaction\", \"data\": {\"outcomeType\": 1, \"valueTowardsCompletion\": 0.25, \"interactionType\": 1, \"questionType\": 2, \"questionId\": \"4_MakePredictions\", \"learnToolsVersion\": \"0.3.4\", \"failureMessage\": \"\", \"exceptionClass\": \"\", \"trace\": \"\"}}, \"*\")"
      ],
      "text/plain": [
       "<IPython.core.display.Javascript object>"
      ]
     },
     "metadata": {},
     "output_type": "display_data"
    },
    {
     "data": {
      "text/markdown": [
       "<span style=\"color:#33cc33\">Correct</span>"
      ],
      "text/plain": [
       "Correct"
      ]
     },
     "metadata": {},
     "output_type": "display_data"
    }
   ],
   "source": [
    "predictions = iowa_model.predict(X)\n",
    "print(predictions)\n",
    "\n",
    "# Check your answer\n",
    "step_4.check()"
   ]
  },
  {
   "cell_type": "code",
   "execution_count": 11,
   "id": "3ff5b8bc",
   "metadata": {
    "collapsed": true,
    "execution": {
     "iopub.execute_input": "2021-08-11T03:34:12.501441Z",
     "iopub.status.busy": "2021-08-11T03:34:12.500834Z",
     "iopub.status.idle": "2021-08-11T03:34:12.504083Z",
     "shell.execute_reply": "2021-08-11T03:34:12.504513Z"
    },
    "jupyter": {
     "outputs_hidden": true
    },
    "papermill": {
     "duration": 0.027162,
     "end_time": "2021-08-11T03:34:12.504669",
     "exception": false,
     "start_time": "2021-08-11T03:34:12.477507",
     "status": "completed"
    },
    "tags": []
   },
   "outputs": [],
   "source": [
    "# step_4.hint()\n",
    "# step_4.solution()"
   ]
  },
  {
   "cell_type": "markdown",
   "id": "57c883e5",
   "metadata": {
    "papermill": {
     "duration": 0.021231,
     "end_time": "2021-08-11T03:34:12.546931",
     "exception": false,
     "start_time": "2021-08-11T03:34:12.525700",
     "status": "completed"
    },
    "tags": []
   },
   "source": [
    "## Think About Your Results\n",
    "\n",
    "Use the `head` method to compare the top few predictions to the actual home values (in `y`) for those same homes. Anything surprising?\n"
   ]
  },
  {
   "cell_type": "code",
   "execution_count": 12,
   "id": "146402a8",
   "metadata": {
    "execution": {
     "iopub.execute_input": "2021-08-11T03:34:12.592924Z",
     "iopub.status.busy": "2021-08-11T03:34:12.592310Z",
     "iopub.status.idle": "2021-08-11T03:34:12.603879Z",
     "shell.execute_reply": "2021-08-11T03:34:12.603359Z",
     "shell.execute_reply.started": "2021-08-11T03:33:13.094435Z"
    },
    "papermill": {
     "duration": 0.035509,
     "end_time": "2021-08-11T03:34:12.604038",
     "exception": false,
     "start_time": "2021-08-11T03:34:12.568529",
     "status": "completed"
    },
    "tags": []
   },
   "outputs": [
    {
     "name": "stdout",
     "output_type": "stream",
     "text": [
      "   LotArea  YearBuilt  1stFlrSF  2ndFlrSF  FullBath  BedroomAbvGr  \\\n",
      "0     8450       2003       856       854         2             3   \n",
      "1     9600       1976      1262         0         2             3   \n",
      "2    11250       2001       920       866         2             3   \n",
      "3     9550       1915       961       756         1             3   \n",
      "4    14260       2000      1145      1053         2             4   \n",
      "\n",
      "   TotRmsAbvGrd  \n",
      "0             8  \n",
      "1             6  \n",
      "2             6  \n",
      "3             7  \n",
      "4             9  \n",
      "[208500. 181500. 223500. 140000. 250000.]\n"
     ]
    }
   ],
   "source": [
    "# You can write code in this cell\n",
    "print(X.head())\n",
    "print(iowa_model.predict(X.head()))"
   ]
  },
  {
   "cell_type": "markdown",
   "id": "0c902050",
   "metadata": {
    "papermill": {
     "duration": 0.021075,
     "end_time": "2021-08-11T03:34:12.647147",
     "exception": false,
     "start_time": "2021-08-11T03:34:12.626072",
     "status": "completed"
    },
    "tags": []
   },
   "source": [
    "It's natural to ask how accurate the model's predictions will be and how you can improve that. That will be you're next step.\n",
    "\n",
    "# Keep Going\n",
    "\n",
    "You are ready for **[Model Validation](https://www.kaggle.com/dansbecker/model-validation).**\n"
   ]
  },
  {
   "cell_type": "markdown",
   "id": "0eca5da3",
   "metadata": {
    "papermill": {
     "duration": 0.021101,
     "end_time": "2021-08-11T03:34:12.689838",
     "exception": false,
     "start_time": "2021-08-11T03:34:12.668737",
     "status": "completed"
    },
    "tags": []
   },
   "source": [
    "---\n",
    "\n",
    "\n",
    "\n",
    "\n",
    "*Have questions or comments? Visit the [Learn Discussion forum](https://www.kaggle.com/learn-forum/161285) to chat with other Learners.*"
   ]
  }
 ],
 "metadata": {
  "kernelspec": {
   "display_name": "Python 3",
   "language": "python",
   "name": "python3"
  },
  "language_info": {
   "codemirror_mode": {
    "name": "ipython",
    "version": 3
   },
   "file_extension": ".py",
   "mimetype": "text/x-python",
   "name": "python",
   "nbconvert_exporter": "python",
   "pygments_lexer": "ipython3",
   "version": "3.7.10"
  },
  "papermill": {
   "default_parameters": {},
   "duration": 10.555534,
   "end_time": "2021-08-11T03:34:13.421195",
   "environment_variables": {},
   "exception": null,
   "input_path": "__notebook__.ipynb",
   "output_path": "__notebook__.ipynb",
   "parameters": {},
   "start_time": "2021-08-11T03:34:02.865661",
   "version": "2.3.3"
  }
 },
 "nbformat": 4,
 "nbformat_minor": 5
}
